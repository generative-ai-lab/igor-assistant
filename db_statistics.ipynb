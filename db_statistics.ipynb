{
 "cells": [
  {
   "cell_type": "code",
   "execution_count": 12,
   "metadata": {},
   "outputs": [],
   "source": [
    "from sqlalchemy import create_engine\n",
    "from sqlalchemy import select\n",
    "from sqlalchemy.orm import Session\n",
    "from sqlalchemy import func\n",
    "\n",
    "from bot.db.models import ChatMessage\n",
    "from bot.config_reader import config"
   ]
  },
  {
   "cell_type": "code",
   "execution_count": 2,
   "metadata": {},
   "outputs": [],
   "source": [
    "engine = create_engine(config.db_url.get_secret_value())"
   ]
  },
  {
   "cell_type": "code",
   "execution_count": 16,
   "metadata": {},
   "outputs": [
    {
     "name": "stdout",
     "output_type": "stream",
     "text": [
      "Пользователей: 87\n",
      "Всего сообщений от пользователей отправлено: 418\n",
      "Всего голосовых сообщений отправлено: 18\n",
      "[(7,), (2,), (2,), (1,), (1,), (5,)]\n"
     ]
    }
   ],
   "source": [
    "with Session(engine) as session:\n",
    "    # query for ``User`` objects\n",
    "    statement = select(ChatMessage.user_id).distinct()\n",
    "\n",
    "    # list of ``User`` objects\n",
    "    users = session.execute(statement).all()\n",
    "    \n",
    "    print(\"Пользователей:\", len(users))\n",
    "    \n",
    "    statement = select(ChatMessage).filter_by(role='user')\n",
    "    voice_messages_cnt = len(session.execute(statement).all())\n",
    "    print(\"Всего сообщений от пользователей отправлено:\", voice_messages_cnt)\n",
    "    \n",
    "    statement = select(ChatMessage).filter_by(is_text=False)\n",
    "    voice_messages_cnt = len(session.execute(statement).all())\n",
    "    print(\"Всего голосовых сообщений отправлено:\", voice_messages_cnt)\n",
    "    \n",
    "    # statement = select(func.count(ChatMessage.content)).filter_by(is_text=False).group_by(ChatMessage.user_id)\n",
    "    # messages_by_users = session.execute(statement).all()\n",
    "    # # print(\"Всего голосовых сообщений отправлено:\", voice_messages_cnt)\n",
    "    # print(messages_by_users)"
   ]
  },
  {
   "cell_type": "code",
   "execution_count": null,
   "metadata": {},
   "outputs": [],
   "source": []
  }
 ],
 "metadata": {
  "kernelspec": {
   "display_name": ".venv",
   "language": "python",
   "name": "python3"
  },
  "language_info": {
   "codemirror_mode": {
    "name": "ipython",
    "version": 3
   },
   "file_extension": ".py",
   "mimetype": "text/x-python",
   "name": "python",
   "nbconvert_exporter": "python",
   "pygments_lexer": "ipython3",
   "version": "3.10.12"
  }
 },
 "nbformat": 4,
 "nbformat_minor": 2
}
